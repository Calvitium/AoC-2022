{
  "nbformat": 4,
  "nbformat_minor": 2,
  "metadata": {
    "kernelspec": {
      "display_name": "Julia 1.8.3",
      "language": "julia",
      "name": "julia-1.8"
    }
  },
  "cells": [
    {
      "metadata": {},
      "source": [
        "# Advent of Code 2022\n",
        "Author: Mateusz Marciniewicz\n",
        "\n",
        "Language: Julia\n",
        "\n"
      ],
      "cell_type": "markdown"
    },
    {
      "metadata": {},
      "source": [
        "using DelimitedFiles \n",
        "using .Iterators"
      ],
      "cell_type": "code",
      "outputs": [],
      "execution_count": null
    },
    {
      "metadata": {},
      "source": [
        "## 1<sup>st</sup> December\n",
        "### Part 1"
      ],
      "cell_type": "markdown"
    },
    {
      "metadata": {},
      "source": [
        "open(\"../data/1.txt\") do \ud83d\udcc1\n",
        "    max_\ud83d\udce6 = 0\n",
        "    current_\ud83d\udce6 = 0\n",
        "    \n",
        "    for \ud83c\udf4e in eachline(\ud83d\udcc1)\n",
        "        if \ud83c\udf4e == \"\"\n",
        "            max_\ud83d\udce6 = current_\ud83d\udce6 > max_\ud83d\udce6 ? current_\ud83d\udce6 : max_\ud83d\udce6\n",
        "            current_\ud83d\udce6 = 0\n",
        "            continue\n",
        "        end\n",
        "\n",
        "        current_\ud83d\udce6 += parse(Int, \ud83c\udf4e)\n",
        "    end\n",
        "\n",
        "    max_\ud83d\udce6\n",
        "end"
      ],
      "cell_type": "code",
      "outputs": [],
      "execution_count": null
    },
    {
      "metadata": {},
      "source": [
        "### Part 2"
      ],
      "cell_type": "markdown"
    },
    {
      "metadata": {},
      "source": [
        "open(\"../data/1.txt\") do \ud83d\udcc1\n",
        "    list_\ud83d\udce6 = []\n",
        "    current_\ud83d\udce6 = 0\n",
        "\n",
        "    for \ud83c\udf4e in eachline(\ud83d\udcc1)\n",
        "        if \ud83c\udf4e == \"\"\n",
        "            push!(list_\ud83d\udce6, current_\ud83d\udce6)\n",
        "            current_\ud83d\udce6 = 0\n",
        "            continue\n",
        "        end\n",
        "\n",
        "        current_\ud83d\udce6 += parse(Int, \ud83c\udf4e)\n",
        "    end\n",
        "\n",
        "    sum(sort(list_\ud83d\udce6, rev=true)[1:3])\n",
        "end"
      ],
      "cell_type": "code",
      "outputs": [],
      "execution_count": null
    },
    {
      "metadata": {},
      "source": [
        "## 2<sup>nd</sup> December\n",
        "### Part 1"
      ],
      "cell_type": "markdown"
    },
    {
      "metadata": {},
      "source": [
        "\ud83d\udcc1 = replace(\n",
        "        readdlm(\"../data/2.txt\", Char),\n",
        "        'A' => '\ud83e\udea8', 'B' => '\ud83e\uddfb', 'C' => '\u2702',\n",
        "        'X' => '\ud83e\udea8', 'Y' => '\ud83e\uddfb', 'Z' => '\u2702',\n",
        "    )\n",
        "\n",
        "    win_map = Dict('\ud83e\udea8' => '\ud83e\uddfb', '\ud83e\uddfb' => '\u2702', '\u2702' => '\ud83e\udea8')\n",
        "    points = Dict('\ud83e\udea8' => 1, '\ud83e\uddfb' => 2, '\u2702' => 3)\n",
        "    score = 0\n",
        "\n",
        "    for (him, me) in zip(\ud83d\udcc1[:, 1], \ud83d\udcc1[:, 2])\n",
        "        score += points[me]\n",
        "\n",
        "        if him == me\n",
        "            score += 3\n",
        "        elseif me == win_map[him]\n",
        "            score += 6\n",
        "        end\n",
        "    end\n",
        "\n",
        "    score"
      ],
      "cell_type": "code",
      "outputs": [],
      "execution_count": null
    },
    {
      "metadata": {},
      "source": [
        "### Part 2"
      ],
      "cell_type": "markdown"
    },
    {
      "metadata": {},
      "source": [
        "\ud83d\udcc1 = replace(\n",
        "        readdlm(\"../data/2.txt\", Char),\n",
        "        'A' => '\ud83e\udea8', 'B' => '\ud83e\uddfb', 'C' => '\u2702',\n",
        "        'X' => '\ud83d\udd34', 'Y' => '\ud83d\udfe1', 'Z' => '\ud83d\udfe2',\n",
        "    )\n",
        "\n",
        "win_map = Dict('\ud83e\udea8' => '\ud83e\uddfb', '\ud83e\uddfb' => '\u2702', '\u2702' => '\ud83e\udea8')\n",
        "loss_map = Dict(value => key for (key, value) in win_map)\n",
        "points = Dict('\ud83e\udea8' => 1, '\ud83e\uddfb' => 2, '\u2702' => 3)\n",
        "score = 0\n",
        "\n",
        "for (him, outcome) in zip(\ud83d\udcc1[:, 1], \ud83d\udcc1[:, 2])\n",
        "    me = Dict('\ud83d\udd34' => loss_map[him], '\ud83d\udfe1' => him, '\ud83d\udfe2' => win_map[him])[outcome]\n",
        "    score += points[me]\n",
        "\n",
        "    if him == me\n",
        "        score += 3\n",
        "    elseif me == win_map[him]\n",
        "        score += 6\n",
        "    end\n",
        "end\n",
        "\n",
        "score"
      ],
      "cell_type": "code",
      "outputs": [],
      "execution_count": null
    },
    {
      "metadata": {},
      "source": [
        "## 3<sup>rd</sup> December\n",
        "### Part 1"
      ],
      "cell_type": "markdown"
    },
    {
      "metadata": {},
      "source": [
        "\ud83d\udcc1 = readdlm(\"../data/3.txt\")\n",
        "priorities = Dict(char => i for (i, char) in enumerate(['a':'z'; 'A':'Z']))\n",
        "\n",
        "(\n",
        "    \ud83d\udcc1\n",
        "    .|> (bag -> [bag length(bag) \u00f7 2])\n",
        "    .|> (((bag, half),) -> [bag[1:half] bag[half+1:end]]) \n",
        "    .|> (((s1, s2),) -> s1 \u2229 s2)\n",
        "    .|> only \n",
        "    .|> (element -> priorities[element]) \n",
        "    |> sum\n",
        ")"
      ],
      "cell_type": "code",
      "outputs": [],
      "execution_count": null
    },
    {
      "metadata": {},
      "source": [
        "### Part 2"
      ],
      "cell_type": "markdown"
    },
    {
      "metadata": {},
      "source": [
        "(\n",
        "    \ud83d\udcc1\n",
        "    |> x -> partition(x, 3) \n",
        "    .|> (((s1, s2, s3),) -> s1 \u2229 s2 \u2229 s3) \n",
        "    .|> only \n",
        "    .|> (element -> priorities[element]) \n",
        "    |> sum\n",
        ")"
      ],
      "cell_type": "code",
      "outputs": [],
      "execution_count": null
    },
    {
      "metadata": {},
      "source": [
        "## 4<sup>th</sup> December\n",
        "### Part 1"
      ],
      "cell_type": "markdown"
    },
    {
      "metadata": {},
      "source": [
        "(\n",
        "    readdlm(\"../data/4.txt\")\n",
        "    .|> (line -> split(line, ','))\n",
        "    .|> (ranges -> \n",
        "            map(\n",
        "                r -> split(r, '-') .|> (n -> parse(Int, n)) |> ((a,b),) -> a:b,  \n",
        "                ranges\n",
        "            )\n",
        "        )\n",
        "    .|> (((s1, s2),) ->  s1 \u2286 s2 || s2 \u2286 s1)\n",
        "    |> sum\n",
        ")"
      ],
      "cell_type": "code",
      "outputs": [],
      "execution_count": null
    },
    {
      "metadata": {},
      "source": [
        "### Part 2"
      ],
      "cell_type": "markdown"
    },
    {
      "metadata": {},
      "source": [
        "(\n",
        "    readdlm(\"../data/4.txt\")\n",
        "    .|> (line -> split(line, ','))\n",
        "    .|> (ranges -> \n",
        "            map(\n",
        "                r -> split(r, '-') .|> (n -> parse(Int, n)) |> ((a,b),) -> a:b,  \n",
        "                ranges\n",
        "            )\n",
        "    )\n",
        "    .|> (((s1, s2),) -> s1 \u2229 s2) \n",
        "    .|> !isempty\n",
        "    |> sum\n",
        ")"
      ],
      "cell_type": "code",
      "outputs": [],
      "execution_count": null
    },
    {
      "metadata": {},
      "source": [
        "## 5<sup>th</sup> December\n",
        "### Part 1"
      ],
      "cell_type": "markdown"
    },
    {
      "metadata": {},
      "source": [
        "stacks = [\n",
        "    [\"[G]\", \"[F]\", \"[V]\", \"[H]\", \"[P]\", \"[S]\"],\n",
        "    [\"[G]\", \"[J]\", \"[F]\", \"[B]\", \"[V]\", \"[D]\", \"[Z]\", \"[M]\"],\n",
        "    [\"[G]\", \"[M]\", \"[L]\", \"[J]\", \"[N]\"],\n",
        "    [\"[N]\", \"[G]\", \"[Z]\", \"[V]\", \"[D]\", \"[W]\", \"[P]\"],\n",
        "    [\"[V]\", \"[R]\", \"[C]\", \"[B]\"],\n",
        "    [\"[V]\", \"[R]\", \"[S]\", \"[M]\", \"[P]\", \"[W]\", \"[L]\", \"[Z]\"],\n",
        "    [\"[T]\", \"[H]\", \"[P]\"],\n",
        "    [\"[Q]\", \"[R]\", \"[S]\", \"[N]\", \"[C]\", \"[H]\", \"[Z]\", \"[V]\"],\n",
        "    [\"[F]\", \"[L]\", \"[G]\", \"[P]\", \"[V]\", \"[Q]\", \"[J]\"],\n",
        "]\n",
        "\n",
        "open(\"../data/5_2.txt\") do \ud83d\udcc1\n",
        "    for command in eachline(\ud83d\udcc1)\n",
        "        n, from, to = eachsplit(command) .|> (x -> parse(Int, x))\n",
        "        stacks[to] = [stacks[to]; reverse(stacks[from][end-n+1:end])]\n",
        "        stacks[from] = stacks[from][1:end-n]        \n",
        "    end\n",
        "end\n",
        "\n",
        "stacks .|> (x -> x[end]) .|> (x -> x[2]) |> join"
      ],
      "cell_type": "code",
      "outputs": [],
      "execution_count": null
    },
    {
      "metadata": {},
      "source": [
        "### Part 2"
      ],
      "cell_type": "markdown"
    },
    {
      "metadata": {},
      "source": [
        "stacks = [\n",
        "    [\"[G]\", \"[F]\", \"[V]\", \"[H]\", \"[P]\", \"[S]\"],\n",
        "    [\"[G]\", \"[J]\", \"[F]\", \"[B]\", \"[V]\", \"[D]\", \"[Z]\", \"[M]\"],\n",
        "    [\"[G]\", \"[M]\", \"[L]\", \"[J]\", \"[N]\"],\n",
        "    [\"[N]\", \"[G]\", \"[Z]\", \"[V]\", \"[D]\", \"[W]\", \"[P]\"],\n",
        "    [\"[V]\", \"[R]\", \"[C]\", \"[B]\"],\n",
        "    [\"[V]\", \"[R]\", \"[S]\", \"[M]\", \"[P]\", \"[W]\", \"[L]\", \"[Z]\"],\n",
        "    [\"[T]\", \"[H]\", \"[P]\"],\n",
        "    [\"[Q]\", \"[R]\", \"[S]\", \"[N]\", \"[C]\", \"[H]\", \"[Z]\", \"[V]\"],\n",
        "    [\"[F]\", \"[L]\", \"[G]\", \"[P]\", \"[V]\", \"[Q]\", \"[J]\"],\n",
        "]\n",
        "\n",
        "open(\"../data/5_2.txt\") do \ud83d\udcc1\n",
        "    for command in eachline(\ud83d\udcc1)\n",
        "        n, from, to = eachsplit(command) .|> (x -> parse(Int, x))\n",
        "        stacks[to] = [stacks[to]; stacks[from][end-n+1:end]]\n",
        "        stacks[from] = stacks[from][1:end-n]        \n",
        "    end\n",
        "end\n",
        "\n",
        "stacks .|> (x -> x[end]) .|> (x -> x[2]) |> join"
      ],
      "cell_type": "code",
      "outputs": [],
      "execution_count": null
    }
  ]
}