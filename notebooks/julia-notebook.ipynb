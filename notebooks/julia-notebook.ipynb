{
  "nbformat": 4,
  "nbformat_minor": 2,
  "metadata": {},
  "cells": [
    {
      "metadata": {},
      "source": [
        "# Advent of Code 2022\n",
        "Author: Mateusz Marciniewicz\n",
        "\n",
        "Language: Julia\n",
        "\n"
      ],
      "cell_type": "markdown"
    },
    {
      "metadata": {},
      "source": [
        "using DelimitedFiles"
      ],
      "cell_type": "code",
      "outputs": [],
      "execution_count": null
    },
    {
      "metadata": {},
      "source": [
        "## 1<sup>st</sup> December\n",
        "### Part 1"
      ],
      "cell_type": "markdown"
    },
    {
      "metadata": {},
      "source": [
        "open(\"../data/1.txt\") do \ud83d\udcc1\n",
        "    max_\ud83d\udce6 = 0\n",
        "    current_\ud83d\udce6 = 0\n",
        "    \n",
        "    for \ud83c\udf4e in eachline(\ud83d\udcc1)\n",
        "        if \ud83c\udf4e == \"\"\n",
        "            max_\ud83d\udce6 = current_\ud83d\udce6 > max_\ud83d\udce6 ? current_\ud83d\udce6 : max_\ud83d\udce6\n",
        "            current_\ud83d\udce6 = 0\n",
        "            continue\n",
        "        end\n",
        "\n",
        "        current_\ud83d\udce6 += parse(Int, \ud83c\udf4e)\n",
        "    end\n",
        "\n",
        "    max_\ud83d\udce6\n",
        "end"
      ],
      "cell_type": "code",
      "outputs": [],
      "execution_count": null
    },
    {
      "metadata": {},
      "source": [
        "### Part 2"
      ],
      "cell_type": "markdown"
    },
    {
      "metadata": {},
      "source": [
        "open(\"../data/1.txt\") do \ud83d\udcc1\n",
        "    list_\ud83d\udce6 = []\n",
        "    current_\ud83d\udce6 = 0\n",
        "\n",
        "    for \ud83c\udf4e in eachline(\ud83d\udcc1)\n",
        "        if \ud83c\udf4e == \"\"\n",
        "            push!(list_\ud83d\udce6, current_\ud83d\udce6)\n",
        "            current_\ud83d\udce6 = 0\n",
        "            continue\n",
        "        end\n",
        "\n",
        "        current_\ud83d\udce6 += parse(Int, \ud83c\udf4e)\n",
        "    end\n",
        "\n",
        "    sum(sort(list_\ud83d\udce6, rev=true)[1:3])\n",
        "end"
      ],
      "cell_type": "code",
      "outputs": [],
      "execution_count": null
    },
    {
      "metadata": {},
      "source": [
        "## 2<sup>nd</sup> December\n",
        "### Part 1"
      ],
      "cell_type": "markdown"
    },
    {
      "metadata": {},
      "source": [
        "\ud83d\udcc1 = replace(\n",
        "        readdlm(\"../data/2.txt\", Char),\n",
        "        'A' => '\ud83e\udea8', 'B' => '\ud83e\uddfb', 'C' => '\u2702',\n",
        "        'X' => '\ud83e\udea8', 'Y' => '\ud83e\uddfb', 'Z' => '\u2702',\n",
        "    )\n",
        "\n",
        "    win_map = Dict('\ud83e\udea8' => '\ud83e\uddfb', '\ud83e\uddfb' => '\u2702', '\u2702' => '\ud83e\udea8')\n",
        "    points = Dict('\ud83e\udea8' => 1, '\ud83e\uddfb' => 2, '\u2702' => 3)\n",
        "    score = 0\n",
        "\n",
        "    for (him, me) in zip(\ud83d\udcc1[:, 1], \ud83d\udcc1[:, 2])\n",
        "        score += points[me]\n",
        "\n",
        "        if him == me\n",
        "            score += 3\n",
        "        elseif me == win_map[him]\n",
        "            score += 6\n",
        "        end\n",
        "    end\n",
        "\n",
        "    score"
      ],
      "cell_type": "code",
      "outputs": [],
      "execution_count": null
    },
    {
      "metadata": {},
      "source": [
        "### Part 2"
      ],
      "cell_type": "markdown"
    },
    {
      "metadata": {},
      "source": [
        "\ud83d\udcc1 = replace(\n",
        "        readdlm(\"../data/2.txt\", Char),\n",
        "        'A' => '\ud83e\udea8', 'B' => '\ud83e\uddfb', 'C' => '\u2702',\n",
        "        'X' => '\ud83d\udd34', 'Y' => '\ud83d\udfe1', 'Z' => '\ud83d\udfe2',\n",
        "    )\n",
        "\n",
        "win_map = Dict('\ud83e\udea8' => '\ud83e\uddfb', '\ud83e\uddfb' => '\u2702', '\u2702' => '\ud83e\udea8')\n",
        "loss_map = Dict(value => key for (key, value) in win_map)\n",
        "points = Dict('\ud83e\udea8' => 1, '\ud83e\uddfb' => 2, '\u2702' => 3)\n",
        "score = 0\n",
        "\n",
        "for (him, outcome) in zip(\ud83d\udcc1[:, 1], \ud83d\udcc1[:, 2])\n",
        "    me = Dict('\ud83d\udd34' => loss_map[him], '\ud83d\udfe1' => him, '\ud83d\udfe2' => win_map[him])[outcome]\n",
        "    score += points[me]\n",
        "\n",
        "    if him == me\n",
        "        score += 3\n",
        "    elseif me == win_map[him]\n",
        "        score += 6\n",
        "    end\n",
        "end\n",
        "\n",
        "score"
      ],
      "cell_type": "code",
      "outputs": [],
      "execution_count": null
    },
    {
      "metadata": {},
      "source": [
        "## 3<sup>rd</sup> December\n",
        "### Part 1"
      ],
      "cell_type": "markdown"
    },
    {
      "metadata": {},
      "source": [
        "\ud83d\udcc1 = readdlm(\"../data/3.txt\")\n",
        "letters =[collect('a':'z'); collect('A':'Z')]\n",
        "priorities = Dict(char => idx for (idx, char) in enumerate(letters))\n",
        "\n",
        "(\n",
        "    \ud83d\udcc1\n",
        "    .|> (x -> [x[1:Int(length(x)/2)] x[Int(length(x)/2)+1:end]]) \n",
        "    .|> (x -> \u2229(x[1], x[2])) \n",
        "    .|> only \n",
        "    .|> (x -> priorities[x]) \n",
        "    |> sum\n",
        ")"
      ],
      "cell_type": "code",
      "outputs": [],
      "execution_count": null
    },
    {
      "metadata": {},
      "source": [
        "### Part 2"
      ],
      "cell_type": "markdown"
    },
    {
      "metadata": {},
      "source": [
        "\ud83d\udcc1 |> x -> partition(x, 3) .|> (x -> \u2229(x[1], x[2], x[3])) .|> only .|> (x -> priorities[x]) |> sum"
      ],
      "cell_type": "code",
      "outputs": [],
      "execution_count": null
    },
    {
      "metadata": {},
      "source": [
        "## 4<sup>th</sup> December\n",
        "### Part 1"
      ],
      "cell_type": "markdown"
    },
    {
      "metadata": {},
      "source": [
        "(\n",
        "    readdlm(\"../data/4.txt\")\n",
        "    .|> (x -> split(x, ','))\n",
        "    .|> (x -> map(y -> collect(parse(Int,split(y, '-')[1]):parse(Int,split(y, '-')[2])), x))\n",
        "    .|> (x ->  issubset(x[1], x[2]) | issubset(x[2], x[1])) \n",
        "    |> sum\n",
        ")"
      ],
      "cell_type": "code",
      "outputs": [],
      "execution_count": null
    },
    {
      "metadata": {},
      "source": [
        "### Part 2"
      ],
      "cell_type": "markdown"
    },
    {
      "metadata": {},
      "source": [
        "(\n",
        "    readdlm(\"../data/4.txt\")\n",
        "    .|> (x -> split(x, ','))\n",
        "    .|> (x -> map(y -> collect(parse(Int,split(y, '-')[1]):parse(Int,split(y, '-')[2])), x))\n",
        "    .|> (x -> \u2229(x[1], x[2])) \n",
        "    .|> !isempty\n",
        "    |> sum\n",
        ")"
      ],
      "cell_type": "code",
      "outputs": [],
      "execution_count": null
    }
  ]
}